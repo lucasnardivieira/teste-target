{
 "cells": [
  {
   "cell_type": "code",
   "execution_count": 6,
   "metadata": {},
   "outputs": [
    {
     "name": "stdout",
     "output_type": "stream",
     "text": [
      "Soma =  91\n"
     ]
    }
   ],
   "source": [
    "#QUESTÃO 1\n",
    "indice = 13\n",
    "k = 0\n",
    "soma = 0\n",
    "while k < indice:\n",
    "    k += 1\n",
    "    soma += k\n",
    "print(\"Soma = \", soma)"
   ]
  },
  {
   "cell_type": "code",
   "execution_count": null,
   "metadata": {},
   "outputs": [],
   "source": [
    "#QUESTÃO 2\n",
    "procurar = int(input(\"Digite o valor a ser buscado na série de Fibonacci\"))\n",
    "fibo_list = [0, 1]\n",
    "termo = 0\n",
    "while termo < procurar:\n",
    "    ultimo = fibo_list[-1]\n",
    "    penultimo = fibo_list[-2]\n",
    "    termo = ultimo + penultimo\n",
    "    fibo_list.append(termo)\n",
    "    #print(fibo_list)\n",
    "if procurar in fibo_list:\n",
    "    print(\"O termo buscado pertence à série de Fibonacci\")\n",
    "else:\n",
    "    print(\"O termo buscado não pertence à série de Fibonacci\")\n"
   ]
  },
  {
   "cell_type": "code",
   "execution_count": null,
   "metadata": {},
   "outputs": [],
   "source": [
    "#QUESTÃO 3\n",
    "#A)\n",
    "list_a = [1, 3, 5, 7]\n",
    "# -> 9, 11, 13, ...\n",
    "#números ímpares \n",
    "\n",
    "#B)\n",
    "list_b = [2, 4, 8, 16, 32]\n",
    "# -> 64, 128, 256, ...\n",
    "#começando por 1, multiplica-se por 2 o resultado do anterior \n",
    "\n",
    "#C\n",
    "list_c = [0, 1, 4, 9, 16, 25, 36]\n",
    "# -> 49, 64, ...\n",
    "#a diferença entre um valor e o anterior é um número ímpar, basta somar com o próximo númeor ímpar\n",
    "\n",
    "#D\n",
    "list_d = [4, 16, 36, 64]\n",
    "# -> 100, 144, ...\n",
    "#a diferenca entre um valor e o anterior somado com 8 e somado com o pultimo valor dá o próximo número\n",
    "\n",
    "#E\n",
    "list_e = [1, 1, 2, 3, 5, 8]\n",
    "#-> 13, 21, ...\n",
    "#série de fibonacci\n",
    "\n",
    "#F\n",
    "list_f = [2, 10, 12, 16, 17, 18, 19]\n",
    "#-> 200, 201, ...\n",
    "#números que começam com d"
   ]
  },
  {
   "cell_type": "code",
   "execution_count": null,
   "metadata": {},
   "outputs": [],
   "source": [
    "#QUESTÃO 4\n",
    "\"\"\"\n",
    "Pela velocidade constante menor do caminhão e pelo tempo gasto nos pedágios o caminhão se encontra\n",
    "mais próximo de sua cidade de origem Ribeirão preto, prova-se com a função horária do movimento sem \n",
    "aceleração.\n",
    "\n",
    "CARRO -> S0 = 0\n",
    "         v = 110km/h = 30,55m/s\n",
    "\n",
    "CAMINHÃO -> S0 = 100\n",
    "            v = -80km/h = -22,22m/s\n",
    "\n",
    "Posição do CARRO = Posição do CAMINHÃO\n",
    "30,55 * t = 100000 - (22,22 * t) + 300(5min) + 300(5min)\n",
    "30,55t = 100600 - 22,22t\n",
    "52,77t = 100600\n",
    "t = 1906s = 32min -> tempo que levaram para se encontrarem\n",
    "Posição do carro = 1920s * 30,55ms = 58656m = 58km\n",
    "Posição do caminhão = 1920s * -22,22ms = -42662m  = -42km\n",
    "O caminhão se encontra mais próximo da cidade de Ribeirão preto\n",
    "\n",
    "\"\"\""
   ]
  },
  {
   "cell_type": "code",
   "execution_count": null,
   "metadata": {},
   "outputs": [],
   "source": [
    "#QUESTÃO 5\n",
    "string = input(\"Digite a palavra a ser invertida\")\n",
    "print(string[::-1])"
   ]
  }
 ],
 "metadata": {
  "kernelspec": {
   "display_name": "Python 3",
   "language": "python",
   "name": "python3"
  },
  "language_info": {
   "codemirror_mode": {
    "name": "ipython",
    "version": 3
   },
   "file_extension": ".py",
   "mimetype": "text/x-python",
   "name": "python",
   "nbconvert_exporter": "python",
   "pygments_lexer": "ipython3",
   "version": "3.10.6"
  },
  "orig_nbformat": 4
 },
 "nbformat": 4,
 "nbformat_minor": 2
}
